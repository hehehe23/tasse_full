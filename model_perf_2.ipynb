{
 "cells": [
  {
   "cell_type": "code",
   "execution_count": 3,
   "metadata": {},
   "outputs": [],
   "source": [
    "import numpy as np\n",
    "import os\n",
    "from sklearn.metrics import confusion_matrix\n",
    "import seaborn as sn; sn.set(font_scale=1.4)\n",
    "from sklearn.utils import shuffle           \n",
    "import matplotlib.pyplot as plt             \n",
    "import cv2                                 \n",
    "import tensorflow as tf                \n",
    "from tqdm import tqdm\n",
    "import pandas as pd\n"
   ]
  },
  {
   "cell_type": "code",
   "execution_count": 4,
   "metadata": {},
   "outputs": [],
   "source": [
    "class_names = ['20', '40', '60', '80', '100', '120',\n",
    "               '140', '160', '180', '200', '220', '240',\n",
    "               '260', '280', '300', '320', '340', '360']\n",
    "\n",
    "class_names_label = {class_name:i for i, class_name in enumerate(class_names)}\n",
    "\n",
    "nb_classes = len(class_names)\n",
    "\n",
    "image_size = (128, 128)\n"
   ]
  },
  {
   "cell_type": "code",
   "execution_count": 5,
   "metadata": {},
   "outputs": [],
   "source": [
    "def load_data():\n",
    "   \n",
    "    datasets = ['/home/xxx/tasse_full/test/red','/home/xxx/tasse_full/test/blue']\n",
    "    output = [] \n",
    "    \n",
    "    for dataset in datasets:\n",
    "        \n",
    "        images = []\n",
    "        labels = []\n",
    "        \n",
    "        print(\"Loading {}\".format(dataset))\n",
    "        \n",
    "        for folder in os.listdir(dataset):\n",
    "            label = class_names_label[folder]\n",
    "            \n",
    "            for file in tqdm(os.listdir(os.path.join(dataset, folder))):\n",
    "                \n",
    "                img_path = os.path.join(os.path.join(dataset, folder), file)\n",
    "                \n",
    "                image = cv2.imread(img_path)\n",
    "                image = cv2.cvtColor(image, cv2.COLOR_BGR2RGB)\n",
    "                image = cv2.resize(image, image_size) \n",
    "                \n",
    "                images.append(image)\n",
    "                labels.append(label)\n",
    "                \n",
    "        images = np.array(images, dtype = 'float32')\n",
    "        labels = np.array(labels, dtype = 'int32')   \n",
    "        \n",
    "        output.append((images, labels))\n",
    "\n",
    "    return output"
   ]
  },
  {
   "cell_type": "code",
   "execution_count": 6,
   "metadata": {},
   "outputs": [
    {
     "name": "stderr",
     "output_type": "stream",
     "text": [
      "100%|██████████| 20/20 [00:00<00:00, 2377.12it/s]\n",
      "100%|██████████| 20/20 [00:00<00:00, 2048.20it/s]\n",
      "100%|██████████| 20/20 [00:00<00:00, 2548.49it/s]\n",
      "100%|██████████| 20/20 [00:00<00:00, 2981.34it/s]\n",
      "100%|██████████| 20/20 [00:00<00:00, 2023.40it/s]\n",
      "100%|██████████| 20/20 [00:00<00:00, 1897.23it/s]\n",
      "100%|██████████| 20/20 [00:00<00:00, 1623.50it/s]\n",
      "100%|██████████| 20/20 [00:00<00:00, 1803.61it/s]\n",
      "100%|██████████| 20/20 [00:00<00:00, 1535.03it/s]\n",
      "100%|██████████| 20/20 [00:00<00:00, 1739.11it/s]\n",
      "100%|██████████| 20/20 [00:00<00:00, 2781.83it/s]\n",
      "100%|██████████| 20/20 [00:00<00:00, 1848.04it/s]\n",
      "100%|██████████| 20/20 [00:00<00:00, 2091.30it/s]\n",
      "100%|██████████| 20/20 [00:00<00:00, 2124.02it/s]\n",
      "100%|██████████| 20/20 [00:00<00:00, 2294.48it/s]\n",
      "100%|██████████| 20/20 [00:00<00:00, 1863.27it/s]\n",
      "100%|██████████| 20/20 [00:00<00:00, 2251.07it/s]\n",
      "  0%|          | 0/20 [00:00<?, ?it/s]"
     ]
    },
    {
     "name": "stdout",
     "output_type": "stream",
     "text": [
      "Loading /home/xxx/tasse_full/test/red\n"
     ]
    },
    {
     "name": "stderr",
     "output_type": "stream",
     "text": [
      "100%|██████████| 20/20 [00:00<00:00, 1900.58it/s]\n",
      "100%|██████████| 20/20 [00:00<00:00, 3476.57it/s]\n",
      "100%|██████████| 20/20 [00:00<00:00, 3345.94it/s]\n",
      "100%|██████████| 20/20 [00:00<00:00, 2756.24it/s]\n",
      "100%|██████████| 20/20 [00:00<00:00, 2360.20it/s]\n",
      "100%|██████████| 20/20 [00:00<00:00, 2718.90it/s]\n",
      "100%|██████████| 20/20 [00:00<00:00, 2531.87it/s]\n",
      "100%|██████████| 20/20 [00:00<00:00, 2667.96it/s]\n",
      "100%|██████████| 20/20 [00:00<00:00, 2307.86it/s]\n",
      "100%|██████████| 20/20 [00:00<00:00, 2540.31it/s]\n",
      "100%|██████████| 20/20 [00:00<00:00, 2927.14it/s]\n",
      "100%|██████████| 20/20 [00:00<00:00, 2621.03it/s]\n",
      "100%|██████████| 20/20 [00:00<00:00, 2669.75it/s]\n",
      "100%|██████████| 20/20 [00:00<00:00, 2141.81it/s]\n",
      "100%|██████████| 20/20 [00:00<00:00, 2850.26it/s]\n",
      "100%|██████████| 20/20 [00:00<00:00, 2906.96it/s]\n",
      "100%|██████████| 20/20 [00:00<00:00, 2375.91it/s]\n",
      "100%|██████████| 20/20 [00:00<00:00, 2268.05it/s]\n",
      "100%|██████████| 20/20 [00:00<00:00, 1887.88it/s]\n"
     ]
    },
    {
     "name": "stdout",
     "output_type": "stream",
     "text": [
      "Loading /home/xxx/tasse_full/test/blue\n"
     ]
    }
   ],
   "source": [
    "(red_images, red_labels), (blue_images, blue_labels) = load_data()"
   ]
  },
  {
   "cell_type": "code",
   "execution_count": 7,
   "metadata": {},
   "outputs": [
    {
     "name": "stdout",
     "output_type": "stream",
     "text": [
      "red examples: 360\n",
      "blue examples: 360\n",
      "image_size: (128, 128)\n"
     ]
    }
   ],
   "source": [
    "n_red = red_labels.shape[0]\n",
    "n_blue = blue_labels.shape[0]\n",
    "\n",
    "print (\"red examples: {}\".format(n_red))\n",
    "print (\"blue examples: {}\".format(n_blue))\n",
    "print (\"image_size: {}\".format(image_size))\n"
   ]
  },
  {
   "cell_type": "code",
   "execution_count": null,
   "metadata": {},
   "outputs": [],
   "source": [
    "red_counts = np.unique(red_labels, return_counts=True)\n",
    "\n",
    "plt.pie(red_counts,\n",
    "        explode=(0, 0, 0, 0, 0, 0, 0, 0, 0, 0, 0, 0, 0, 0, 0, 0, 0, 0), \n",
    "        labels=class_names,\n",
    "        autopct='%1.1f%%')\n",
    "plt.axis('equal')\n",
    "plt.title('Proportion of each observed category')\n",
    "plt.show()\n",
    "\n"
   ]
  },
  {
   "cell_type": "code",
   "execution_count": 8,
   "metadata": {},
   "outputs": [],
   "source": [
    "red_images = red_images / 255.0 \n",
    "blue_images = blue_images / 255.0"
   ]
  },
  {
   "cell_type": "code",
   "execution_count": 9,
   "metadata": {},
   "outputs": [],
   "source": [
    "def some_images(class_names, images, labels):\n",
    "\n",
    "    fig = plt.figure(figsize=(10, 10))\n",
    "    fig.suptitle(\"some images\", fontsize = 16)\n",
    "    for i in range(25):\n",
    "        plt.subplot(5,5,i + 1)\n",
    "        plt.xticks([])\n",
    "        plt.yticks([])\n",
    "        plt.grid(False)\n",
    "        plt.imshow(images[i], cmap = plt.cm.binary)\n",
    "        plt.xlabel(class_names[labels[i]])\n",
    "    plt.show()"
   ]
  },
  {
   "cell_type": "code",
   "execution_count": 2,
   "metadata": {},
   "outputs": [
    {
     "ename": "NameError",
     "evalue": "name 'display_examples' is not defined",
     "output_type": "error",
     "traceback": [
      "\u001b[0;31m---------------------------------------------------------------------------\u001b[0m",
      "\u001b[0;31mNameError\u001b[0m                                 Traceback (most recent call last)",
      "\u001b[0;32m<ipython-input-2-7b7a70c08e85>\u001b[0m in \u001b[0;36m<module>\u001b[0;34m\u001b[0m\n\u001b[0;32m----> 1\u001b[0;31m \u001b[0mdisplay_examples\u001b[0m\u001b[0;34m(\u001b[0m\u001b[0mclass_names\u001b[0m\u001b[0;34m,\u001b[0m \u001b[0mred_images\u001b[0m\u001b[0;34m,\u001b[0m \u001b[0mred_labels\u001b[0m\u001b[0;34m)\u001b[0m\u001b[0;34m\u001b[0m\u001b[0;34m\u001b[0m\u001b[0m\n\u001b[0m",
      "\u001b[0;31mNameError\u001b[0m: name 'display_examples' is not defined"
     ]
    }
   ],
   "source": [
    "display_examples(class_names, red_images, red_labels)"
   ]
  },
  {
   "cell_type": "code",
   "execution_count": null,
   "metadata": {},
   "outputs": [],
   "source": [
    "red_loss = model.evaluate(red_images, red_labels)"
   ]
  },
  {
   "cell_type": "code",
   "execution_count": null,
   "metadata": {},
   "outputs": [],
   "source": [
    "def display_random_image(class_names, images, labels):\n",
    " \n",
    "    \n",
    "    index = np.random.randint(images.shape[0])\n",
    "    plt.figure()\n",
    "    plt.imshow(images[index])\n",
    "    plt.xticks([])\n",
    "    plt.yticks([])\n",
    "    plt.grid(False)\n",
    "    plt.title('Image #{} : '.format(index) + class_names[labels[index]])\n",
    "    plt.show()\n",
    "\n",
    "display_random_image(class_names, red_images, red_labels)"
   ]
  },
  {
   "cell_type": "code",
   "execution_count": null,
   "metadata": {},
   "outputs": [],
   "source": [
    "predictions = model.predict(red_images)     # Vector of probabilities\n",
    "pred_labels = np.argmax(predictions, axis = 1) # We take the highest probability\n",
    "\n",
    "display_random_image(class_names, red_images, pred_labels)\n"
   ]
  },
  {
   "cell_type": "code",
   "execution_count": null,
   "metadata": {},
   "outputs": [],
   "source": [
    "CM = confusion_matrix(red_labels, pred_labels)\n",
    "ax = plt.axes()\n",
    "sn.heatmap(CM, annot = True, \n",
    "           annot_kws = {'size': 10}, \n",
    "           xticklabels = class_names, \n",
    "           yticklabels = class_names, ax = ax)\n",
    "ax.set_title('c_matrix')\n",
    "plt.show()\n",
    "\n"
   ]
  }
 ],
 "metadata": {
  "kernelspec": {
   "display_name": "Python 3",
   "language": "python",
   "name": "python3"
  },
  "language_info": {
   "codemirror_mode": {
    "name": "ipython",
    "version": 3
   },
   "file_extension": ".py",
   "mimetype": "text/x-python",
   "name": "python",
   "nbconvert_exporter": "python",
   "pygments_lexer": "ipython3",
   "version": "3.8.5"
  }
 },
 "nbformat": 4,
 "nbformat_minor": 4
}
