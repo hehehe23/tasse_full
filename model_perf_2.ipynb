{
 "cells": [
  {
   "cell_type": "code",
   "execution_count": 1,
   "metadata": {},
   "outputs": [],
   "source": [
    "import numpy as np\n",
    "from tensorflow.keras.models import load_model\n",
    "from tensorflow.keras.applications.resnet50 import preprocess_input\n",
    "import os\n",
    "from sklearn.metrics import confusion_matrix\n",
    "import seaborn as sn; sn.set(font_scale=1.4)\n",
    "from sklearn.utils import shuffle           \n",
    "import matplotlib.pyplot as plt             \n",
    "import cv2                                 \n",
    "import tensorflow as tf                \n",
    "from tqdm import tqdm\n",
    "import pandas as pd\n",
    "from tensorflow.keras.preprocessing.image import ImageDataGenerator\n",
    "from PIL import Image"
   ]
  },
  {
   "cell_type": "code",
   "execution_count": 2,
   "metadata": {},
   "outputs": [],
   "source": [
    "class_names = ['20', '40', '60', '80', '100', '120',\n",
    "               '140', '160', '180', '200', '220', '240',\n",
    "               '260', '280', '300', '320', '340', '360']\n",
    "\n",
    "class_names_label = {class_name:i for i, class_name in enumerate(class_names)}\n",
    "\n",
    "nb_classes = len(class_names)\n",
    "\n",
    "image_size = (80, 80)\n"
   ]
  },
  {
   "cell_type": "code",
   "execution_count": 3,
   "metadata": {},
   "outputs": [],
   "source": [
    "def load_data():\n",
    "   \n",
    "    datasets = ['/home/xxx/tasse_full/data','/home/xxx/tasse_full/test/green']\n",
    "    output = [] \n",
    "    \n",
    "    for dataset in datasets:\n",
    "        \n",
    "        images = []\n",
    "        labels = []\n",
    "        \n",
    "        print(\"Loading {}\".format(dataset))\n",
    "        \n",
    "        for folder in os.listdir(dataset):\n",
    "            label = class_names_label[folder]\n",
    "            \n",
    "            for file in tqdm(os.listdir(os.path.join(dataset, folder))):\n",
    "                \n",
    "                img_path = os.path.join(os.path.join(dataset, folder), file)\n",
    "                \n",
    "                image = cv2.imread(img_path)\n",
    "                image = cv2.resize(image, image_size) \n",
    "                \n",
    "                images.append(image)\n",
    "                labels.append(label)\n",
    "                \n",
    "        images = np.array(images, dtype = 'float32')\n",
    "        labels = np.array(labels, dtype = 'int32')   \n",
    "        \n",
    "        output.append((images, labels))\n",
    "\n",
    "    return output"
   ]
  },
  {
   "cell_type": "code",
   "execution_count": 4,
   "metadata": {},
   "outputs": [
    {
     "name": "stderr",
     "output_type": "stream",
     "text": [
      "100%|██████████| 20/20 [00:00<00:00, 2102.14it/s]\n",
      "100%|██████████| 20/20 [00:00<00:00, 3117.40it/s]\n",
      "100%|██████████| 20/20 [00:00<00:00, 3449.12it/s]\n",
      "100%|██████████| 20/20 [00:00<00:00, 3205.31it/s]\n",
      "100%|██████████| 20/20 [00:00<00:00, 3054.18it/s]\n",
      "100%|██████████| 20/20 [00:00<00:00, 4003.73it/s]\n",
      "100%|██████████| 20/20 [00:00<00:00, 4237.31it/s]\n",
      "100%|██████████| 20/20 [00:00<00:00, 3296.37it/s]\n",
      "100%|██████████| 20/20 [00:00<00:00, 2941.51it/s]\n",
      "100%|██████████| 20/20 [00:00<00:00, 2697.56it/s]\n",
      "100%|██████████| 20/20 [00:00<00:00, 3808.85it/s]\n",
      "100%|██████████| 20/20 [00:00<00:00, 3405.99it/s]\n",
      "100%|██████████| 20/20 [00:00<00:00, 3383.19it/s]\n",
      "100%|██████████| 20/20 [00:00<00:00, 4560.51it/s]\n",
      "100%|██████████| 20/20 [00:00<00:00, 3544.58it/s]\n",
      "100%|██████████| 20/20 [00:00<00:00, 2998.29it/s]\n",
      "100%|██████████| 20/20 [00:00<00:00, 4109.44it/s]\n",
      "100%|██████████| 20/20 [00:00<00:00, 3240.35it/s]\n",
      "100%|██████████| 20/20 [00:00<00:00, 3311.60it/s]\n",
      "100%|██████████| 20/20 [00:00<00:00, 3836.20it/s]\n",
      "100%|██████████| 20/20 [00:00<00:00, 4181.34it/s]\n",
      "100%|██████████| 20/20 [00:00<00:00, 3787.69it/s]\n",
      "100%|██████████| 20/20 [00:00<00:00, 2056.54it/s]\n",
      "100%|██████████| 20/20 [00:00<00:00, 2774.93it/s]\n",
      "100%|██████████| 20/20 [00:00<00:00, 4597.00it/s]\n",
      "100%|██████████| 20/20 [00:00<00:00, 3626.25it/s]\n",
      "  0%|          | 0/20 [00:00<?, ?it/s]"
     ]
    },
    {
     "name": "stdout",
     "output_type": "stream",
     "text": [
      "Loading /home/xxx/tasse_full/data\n",
      "Loading /home/xxx/tasse_full/test/green\n"
     ]
    },
    {
     "name": "stderr",
     "output_type": "stream",
     "text": [
      "100%|██████████| 20/20 [00:00<00:00, 2988.46it/s]\n",
      "100%|██████████| 20/20 [00:00<00:00, 3241.97it/s]\n",
      "100%|██████████| 20/20 [00:00<00:00, 3292.62it/s]\n",
      "100%|██████████| 20/20 [00:00<00:00, 3455.37it/s]\n",
      "100%|██████████| 20/20 [00:00<00:00, 3361.63it/s]\n",
      "100%|██████████| 20/20 [00:00<00:00, 4047.58it/s]\n",
      "100%|██████████| 20/20 [00:00<00:00, 3235.47it/s]\n",
      "100%|██████████| 20/20 [00:00<00:00, 3261.51it/s]\n",
      "100%|██████████| 20/20 [00:00<00:00, 3402.26it/s]\n",
      "100%|██████████| 20/20 [00:00<00:00, 2686.93it/s]\n"
     ]
    }
   ],
   "source": [
    "(orginal_images, orginal_labels), (green_images, green_labels) = load_data()"
   ]
  },
  {
   "cell_type": "code",
   "execution_count": 5,
   "metadata": {},
   "outputs": [
    {
     "ename": "NameError",
     "evalue": "name 'orginal_labels' is not defined",
     "output_type": "error",
     "traceback": [
      "\u001b[0;31m---------------------------------------------------------------------------\u001b[0m",
      "\u001b[0;31mNameError\u001b[0m                                 Traceback (most recent call last)",
      "\u001b[0;32m<ipython-input-5-51df20ae7785>\u001b[0m in \u001b[0;36m<module>\u001b[0;34m\u001b[0m\n\u001b[0;32m----> 1\u001b[0;31m \u001b[0mn_orginal\u001b[0m \u001b[0;34m=\u001b[0m \u001b[0morginal_labels\u001b[0m\u001b[0;34m.\u001b[0m\u001b[0mshape\u001b[0m\u001b[0;34m[\u001b[0m\u001b[0;36m0\u001b[0m\u001b[0;34m]\u001b[0m\u001b[0;34m\u001b[0m\u001b[0;34m\u001b[0m\u001b[0m\n\u001b[0m\u001b[1;32m      2\u001b[0m \u001b[0mn_green\u001b[0m \u001b[0;34m=\u001b[0m \u001b[0mblue_labels\u001b[0m\u001b[0;34m.\u001b[0m\u001b[0mshape\u001b[0m\u001b[0;34m[\u001b[0m\u001b[0;36m0\u001b[0m\u001b[0;34m]\u001b[0m\u001b[0;34m\u001b[0m\u001b[0;34m\u001b[0m\u001b[0m\n\u001b[1;32m      3\u001b[0m \u001b[0;34m\u001b[0m\u001b[0m\n\u001b[1;32m      4\u001b[0m \u001b[0mprint\u001b[0m \u001b[0;34m(\u001b[0m\u001b[0;34m\"red examples: {}\"\u001b[0m\u001b[0;34m.\u001b[0m\u001b[0mformat\u001b[0m\u001b[0;34m(\u001b[0m\u001b[0mn_orginal\u001b[0m\u001b[0;34m)\u001b[0m\u001b[0;34m)\u001b[0m\u001b[0;34m\u001b[0m\u001b[0;34m\u001b[0m\u001b[0m\n\u001b[1;32m      5\u001b[0m \u001b[0mprint\u001b[0m \u001b[0;34m(\u001b[0m\u001b[0;34m\"blue examples: {}\"\u001b[0m\u001b[0;34m.\u001b[0m\u001b[0mformat\u001b[0m\u001b[0;34m(\u001b[0m\u001b[0mn_green\u001b[0m\u001b[0;34m)\u001b[0m\u001b[0;34m)\u001b[0m\u001b[0;34m\u001b[0m\u001b[0;34m\u001b[0m\u001b[0m\n",
      "\u001b[0;31mNameError\u001b[0m: name 'orginal_labels' is not defined"
     ]
    }
   ],
   "source": [
    "n_orginal = orginal_labels.shape[0]\n",
    "n_green = blue_labels.shape[0]\n",
    "\n",
    "print (\"red examples: {}\".format(n_orginal))\n",
    "print (\"blue examples: {}\".format(n_green))\n",
    "print (\"image_size: {}\".format(image_size))\n"
   ]
  },
  {
   "cell_type": "code",
   "execution_count": null,
   "metadata": {},
   "outputs": [],
   "source": [
    "model = load_model('model.h5')\n",
    "\n",
    "red_images = red_images / 255.0 \n",
    "blue_images = blue_images / 255.0"
   ]
  },
  {
   "cell_type": "code",
   "execution_count": null,
   "metadata": {},
   "outputs": [],
   "source": [
    "def some_images(class_names, images, labels):\n",
    "\n",
    "    fig = plt.figure(figsize=(10, 10))\n",
    "    fig.suptitle(\"some images\", fontsize = 16)\n",
    "    for i in range(25):\n",
    "        plt.subplot(5,5,i + 1)\n",
    "        plt.xticks([])\n",
    "        plt.yticks([])\n",
    "        plt.grid(False)\n",
    "        plt.imshow(images[i], cmap = plt.cm.binary)\n",
    "        plt.xlabel(class_names[labels[i]])\n",
    "    plt.show()"
   ]
  },
  {
   "cell_type": "code",
   "execution_count": null,
   "metadata": {},
   "outputs": [],
   "source": [
    "some_images(class_names, blue_images, blue_labels)"
   ]
  },
  {
   "cell_type": "code",
   "execution_count": null,
   "metadata": {},
   "outputs": [],
   "source": [
    "blue_loss = model.evaluate(blue_images, blue_labels)"
   ]
  },
  {
   "cell_type": "code",
   "execution_count": null,
   "metadata": {},
   "outputs": [],
   "source": [
    "def display_random_image(class_names, images, labels):\n",
    " \n",
    "    \n",
    "    index = np.random.randint(images.shape[0])\n",
    "    plt.figure()\n",
    "    plt.imshow(images[index])\n",
    "    plt.xticks([])\n",
    "    plt.yticks([])\n",
    "    plt.grid(False)\n",
    "    plt.title('Image #{} : '.format(index) + class_names[labels[index]])\n",
    "    plt.show()\n",
    "\n",
    "display_random_image(class_names, blue_images, blue_labels)"
   ]
  },
  {
   "cell_type": "code",
   "execution_count": null,
   "metadata": {},
   "outputs": [],
   "source": [
    "predictions = model.predict(red_images)     # Vector of probabilities\n",
    "pred_labels = np.argmax(predictions, axis = 1) # We take the highest probability\n",
    "\n",
    "display_random_image(class_names, blue_images, pred_labels)\n"
   ]
  },
  {
   "cell_type": "code",
   "execution_count": null,
   "metadata": {},
   "outputs": [],
   "source": [
    "matrix = confusion_matrix(blue_labels, pred_labels)\n",
    "ax = plt.axes()\n",
    "sn.heatmap(matrix, annot = True, \n",
    "           annot_kws = {'size': 10}, \n",
    "           xticklabels = class_names, \n",
    "           yticklabels = class_names, ax = ax)\n",
    "ax.set_title('c_matrix')\n",
    "plt.show()\n",
    "\n"
   ]
  },
  {
   "cell_type": "code",
   "execution_count": null,
   "metadata": {},
   "outputs": [],
   "source": [
    "images_paths = [\n",
    "    '/home/xxx/tasse_full/images/blau.png',\n",
    "    '/home/xxx/tasse_full/images/gelb.png',\n",
    "    '/home/xxx/tasse_full/images/rot.png'\n",
    "]\n",
    "\n",
    "image_list = [Image.open(image_path) for image_path in images_paths];\n",
    "image_list\n"
   ]
  },
  {
   "cell_type": "code",
   "execution_count": null,
   "metadata": {},
   "outputs": [],
   "source": [
    "\n",
    "image_size = (80, 80)\n",
    "validation_batch = np.stack([preprocess_input(np.array(img.resize(image_size))) for img in image_list])\n",
    "validation_batch.shape\n",
    "\n"
   ]
  },
  {
   "cell_type": "code",
   "execution_count": null,
   "metadata": {},
   "outputs": [],
   "source": [
    "pred_probs = model.predict_on_batch(validation_batch)"
   ]
  },
  {
   "cell_type": "code",
   "execution_count": null,
   "metadata": {},
   "outputs": [],
   "source": [
    "np.argmax(pred_probs, axis=1)"
   ]
  },
  {
   "cell_type": "code",
   "execution_count": null,
   "metadata": {},
   "outputs": [],
   "source": [
    "labels = (validation_generator.class_indices); labels"
   ]
  },
  {
   "cell_type": "code",
   "execution_count": null,
   "metadata": {},
   "outputs": [],
   "source": []
  }
 ],
 "metadata": {
  "kernelspec": {
   "display_name": "Python 3",
   "language": "python",
   "name": "python3"
  },
  "language_info": {
   "codemirror_mode": {
    "name": "ipython",
    "version": 3
   },
   "file_extension": ".py",
   "mimetype": "text/x-python",
   "name": "python",
   "nbconvert_exporter": "python",
   "pygments_lexer": "ipython3",
   "version": "3.7.9"
  }
 },
 "nbformat": 4,
 "nbformat_minor": 4
}
