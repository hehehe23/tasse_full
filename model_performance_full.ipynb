{
 "cells": [
  {
   "cell_type": "code",
   "execution_count": 2,
   "metadata": {},
   "outputs": [
    {
     "data": {
      "text/plain": [
       "False"
      ]
     },
     "execution_count": 2,
     "metadata": {},
     "output_type": "execute_result"
    }
   ],
   "source": [
    "from tensorflow.keras.models import load_model\n",
    "from PIL import Image\n",
    "import matplotlib.pyplot as plt\n",
    "import numpy as np\n",
    "from tensorflow.keras.applications.resnet50 import preprocess_input\n",
    "from tensorflow.keras.preprocessing.image import ImageDataGenerator\n",
    "import tensorflow as tf\n",
    "import seaborn as sns\n",
    "import os\n",
    "import cv2\n",
    "import matplotlib.gridspec as gridspec\n",
    "from random import randint\n",
    "from sklearn.utils import shuffle\n",
    "from tensorflow import keras\n",
    "import matplotlib.image as mpimg\n",
    "\n",
    "tf.test.is_gpu_available(\n",
    "    cuda_only=False, min_cuda_compute_capability=None\n",
    ")"
   ]
  },
  {
   "cell_type": "code",
   "execution_count": 3,
   "metadata": {
    "collapsed": false,
    "jupyter": {
     "outputs_hidden": false
    },
    "pycharm": {
     "name": "#%%\n"
    }
   },
   "outputs": [],
   "source": [
    "model = load_model(\"model.h5\", compile = True)\n",
    "\n",
    "model.compile(optimizer = 'adam',\n",
    "            loss = tf.keras.losses.SparseCategoricalCrossentropy(from_logits = True),\n",
    "                                                                metrics = ['accuracy'])"
   ]
  },
  {
   "cell_type": "code",
   "execution_count": 5,
   "metadata": {
    "collapsed": false,
    "jupyter": {
     "outputs_hidden": false
    },
    "pycharm": {
     "name": "#%%\n"
    }
   },
   "outputs": [
    {
     "name": "stdout",
     "output_type": "stream",
     "text": [
      "Found 720 files belonging to 18 classes.\n",
      "Found 360 files belonging to 18 classes.\n",
      "Found 360 files belonging to 18 classes.\n",
      "Found 360 files belonging to 18 classes.\n",
      "Found 360 files belonging to 18 classes.\n",
      "['100', '120', '140', '160', '180', '20', '200', '220', '240', '260', '280', '300', '320', '340', '360', '40', '60', '80']\n"
     ]
    }
   ],
   "source": [
    "test_path = '/home/xxx/tasse_full/data'\n",
    "test_blue_path = '/home/xxx/tasse_full/test/blue'\n",
    "test_green_path = '/home/xxx/tasse_full/test/green'\n",
    "test_red_path = '/home/xxx/tasse_full/test/red'\n",
    "test_yellow_path = '/home/xxx/tasse_full/test/yellow'\n",
    "\n",
    "\n",
    "\n",
    "\n",
    "batch_size = 64\n",
    "size = 80\n",
    "\n",
    "test_normal = tf.keras.preprocessing.image_dataset_from_directory(\n",
    "    test_path,\n",
    "    image_size = (size, size),\n",
    "    batch_size = batch_size,\n",
    ")\n",
    "\n",
    "test_blue = tf.keras.preprocessing.image_dataset_from_directory(\n",
    "    test_blue_path,\n",
    "    image_size = (size, size),\n",
    "    batch_size = batch_size,\n",
    ")\n",
    "\n",
    "test_green = tf.keras.preprocessing.image_dataset_from_directory(\n",
    "    test_green_path,\n",
    "    image_size = (size, size),\n",
    "    batch_size = batch_size,\n",
    ")\n",
    "\n",
    "test_red = tf.keras.preprocessing.image_dataset_from_directory(\n",
    "    test_red_path,\n",
    "    image_size = (size, size),\n",
    "    batch_size = batch_size,\n",
    ")\n",
    "\n",
    "test_yellow = tf.keras.preprocessing.image_dataset_from_directory(\n",
    "    test_yellow_path,\n",
    "    image_size = (size, size),\n",
    "    batch_size = batch_size,\n",
    ")\n",
    "\n",
    "labels = test_normal.class_names\n",
    "print(labels)\n"
   ]
  },
  {
   "cell_type": "code",
   "execution_count": 6,
   "metadata": {},
   "outputs": [],
   "source": [
    "autotune = tf.data.experimental.AUTOTUNE\n",
    "test_nomral = test_normal.cache().shuffle(1000).prefetch(buffer_size = autotune)"
   ]
  },
  {
   "cell_type": "code",
   "execution_count": 7,
   "metadata": {
    "collapsed": false,
    "jupyter": {
     "outputs_hidden": false
    },
    "pycharm": {
     "name": "#%%\n"
    }
   },
   "outputs": [
    {
     "name": "stdout",
     "output_type": "stream",
     "text": [
      "12/12 [==============================] - 1s 32ms/step - loss: 0.0827 - accuracy: 0.9760\n",
      "Accuracy of the model on Testing Data is -  97.22222089767456 %\n"
     ]
    }
   ],
   "source": [
    "print(\"Accuracy of the model on Testing Data is - \" , model.evaluate(test_normal)[1]*100 , \"%\")"
   ]
  },
  {
   "cell_type": "code",
   "execution_count": 8,
   "metadata": {
    "collapsed": false,
    "jupyter": {
     "outputs_hidden": false
    },
    "pycharm": {
     "name": "#%%\n"
    }
   },
   "outputs": [
    {
     "name": "stdout",
     "output_type": "stream",
     "text": [
      "6/6 [==============================] - 0s 27ms/step - loss: 0.0980 - accuracy: 0.9667\n",
      "Accuracy of the model on Testing Data is -  96.66666388511658 %\n"
     ]
    }
   ],
   "source": [
    "print(\"Accuracy of the model on Testing Data is - \" , model.evaluate(test_blue)[1]*100 , \"%\")"
   ]
  },
  {
   "cell_type": "code",
   "execution_count": 9,
   "metadata": {},
   "outputs": [
    {
     "name": "stdout",
     "output_type": "stream",
     "text": [
      "6/6 [==============================] - 0s 26ms/step - loss: 0.0849 - accuracy: 0.9694\n",
      "Accuracy of the model on Testing Data is -  96.94444537162781 %\n"
     ]
    }
   ],
   "source": [
    "print(\"Accuracy of the model on Testing Data is - \" , model.evaluate(test_green)[1]*100 , \"%\")"
   ]
  },
  {
   "cell_type": "code",
   "execution_count": 10,
   "metadata": {},
   "outputs": [
    {
     "name": "stdout",
     "output_type": "stream",
     "text": [
      "6/6 [==============================] - 0s 27ms/step - loss: 0.0896 - accuracy: 0.9694\n",
      "Accuracy of the model on Testing Data is -  96.94444537162781 %\n"
     ]
    }
   ],
   "source": [
    "print(\"Accuracy of the model on Testing Data is - \" , model.evaluate(test_red)[1]*100 , \"%\")"
   ]
  },
  {
   "cell_type": "code",
   "execution_count": 11,
   "metadata": {},
   "outputs": [
    {
     "name": "stdout",
     "output_type": "stream",
     "text": [
      "6/6 [==============================] - 0s 25ms/step - loss: 0.0890 - accuracy: 0.9667\n",
      "Accuracy of the model on Testing Data is -  96.66666388511658 %\n"
     ]
    }
   ],
   "source": [
    "print(\"Accuracy of the model on Testing Data is - \" , model.evaluate(test_yellow)[1]*100 , \"%\")"
   ]
  },
  {
   "cell_type": "code",
   "execution_count": null,
   "metadata": {},
   "outputs": [],
   "source": []
  }
 ],
 "metadata": {
  "kernelspec": {
   "display_name": "Python 3",
   "language": "python",
   "name": "python3"
  },
  "language_info": {
   "codemirror_mode": {
    "name": "ipython",
    "version": 3
   },
   "file_extension": ".py",
   "mimetype": "text/x-python",
   "name": "python",
   "nbconvert_exporter": "python",
   "pygments_lexer": "ipython3",
   "version": "3.8.5"
  }
 },
 "nbformat": 4,
 "nbformat_minor": 4
}
